{
 "cells": [
  {
   "cell_type": "markdown",
   "metadata": {
    "collapsed": true,
    "pycharm": {
     "name": "#%% md\n"
    }
   },
   "source": [
    "## Pytorch gradient test\n",
    "Check how gradient calculation is working in mid-layers.\n",
    "Below stream is,\n",
    "\n",
    "$$x \\Rightarrow func(x) \\mid z \\Rightarrow func2(z) \\mid y \\Rightarrow y$$\n",
    "\n",
    "I want to know $$\\frac{\\partial y}{\\partial z}$$, and $$"
   ]
  },
  {
   "cell_type": "code",
   "execution_count": null,
   "outputs": [],
   "source": [
    "import torch\n",
    "import torch.nn as nn\n",
    "\n",
    "x = torch.ones(1, requires_grad=True)\n",
    "grads = []\n",
    "\n",
    "# save gradients.\n",
    "def grad(grad):\n",
    "    grads.append(grad)\n",
    "\n",
    "\n",
    "def func(x):\n",
    "    z = 2 * x\n",
    "    z.register_hook(grad)\n",
    "    return z\n",
    "\n",
    "\n",
    "def func2(z):\n",
    "    y = (z ** 2) + (2 * z) + 2\n",
    "    y.register_hook(grad)\n",
    "    return y\n",
    "\n",
    "\n",
    "z = func(x)\n",
    "y = func2(z)\n",
    "\n",
    "y.backward()\n",
    "\n",
    "print(x.grad)"
   ],
   "metadata": {
    "collapsed": false,
    "pycharm": {
     "name": "#%%\n"
    }
   }
  }
 ],
 "metadata": {
  "kernelspec": {
   "display_name": "Python 3",
   "language": "python",
   "name": "python3"
  },
  "language_info": {
   "codemirror_mode": {
    "name": "ipython",
    "version": 2
   },
   "file_extension": ".py",
   "mimetype": "text/x-python",
   "name": "python",
   "nbconvert_exporter": "python",
   "pygments_lexer": "ipython2",
   "version": "2.7.6"
  }
 },
 "nbformat": 4,
 "nbformat_minor": 0
}